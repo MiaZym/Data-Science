{
  "cells": [
    {
      "cell_type": "markdown",
      "metadata": {
        "id": "96443564"
      },
      "source": [
        "#### 1. Импортируйте пакет numpy под именем `np` (★☆☆)"
      ],
      "id": "96443564"
    },
    {
      "cell_type": "code",
      "execution_count": null,
      "metadata": {
        "id": "ffe1047e"
      },
      "outputs": [],
      "source": [
        "import numpy as np"
      ],
      "id": "ffe1047e"
    },
    {
      "cell_type": "markdown",
      "metadata": {
        "id": "572c1bdb"
      },
      "source": [
        "#### 2. Создайте нулевой вектор размера 10 (★☆☆)"
      ],
      "id": "572c1bdb"
    },
    {
      "cell_type": "code",
      "execution_count": null,
      "metadata": {
        "colab": {
          "base_uri": "https://localhost:8080/"
        },
        "id": "31c9f6a5",
        "outputId": "ca079a51-3097-4bf9-e255-6664cb30457c"
      },
      "outputs": [
        {
          "output_type": "execute_result",
          "data": {
            "text/plain": [
              "array([0., 0., 0., 0., 0., 0., 0., 0., 0., 0.])"
            ]
          },
          "metadata": {},
          "execution_count": 2
        }
      ],
      "source": [
        "null_vector = np.zeros(10)\n",
        "null_vector"
      ],
      "id": "31c9f6a5"
    },
    {
      "cell_type": "markdown",
      "metadata": {
        "id": "337e6e36"
      },
      "source": [
        "#### 3. Как узнать объем памяти любого массива (★☆☆)"
      ],
      "id": "337e6e36"
    },
    {
      "cell_type": "code",
      "execution_count": null,
      "metadata": {
        "colab": {
          "base_uri": "https://localhost:8080/"
        },
        "id": "31e8ec2e",
        "outputId": "d5ad5a06-c86c-4a3f-f3fa-c5cc5ad7cc3e"
      },
      "outputs": [
        {
          "output_type": "stream",
          "name": "stdout",
          "text": [
            "объем памяти:  80\n"
          ]
        }
      ],
      "source": [
        "print(\"объем памяти: \",\n",
        "      null_vector.size * null_vector.itemsize)"
      ],
      "id": "31e8ec2e"
    },
    {
      "cell_type": "markdown",
      "metadata": {
        "id": "cfc46304"
      },
      "source": [
        "#### 4. Создайте вектор со значениями от 10 до 49. (★☆☆)"
      ],
      "id": "cfc46304"
    },
    {
      "cell_type": "code",
      "execution_count": null,
      "metadata": {
        "colab": {
          "base_uri": "https://localhost:8080/"
        },
        "id": "d8b86640",
        "outputId": "65e5685d-377d-491b-dfd1-c31552689488"
      },
      "outputs": [
        {
          "output_type": "execute_result",
          "data": {
            "text/plain": [
              "array([10, 11, 12, 13, 14, 15, 16, 17, 18, 19, 20, 21, 22, 23, 24, 25, 26,\n",
              "       27, 28, 29, 30, 31, 32, 33, 34, 35, 36, 37, 38, 39, 40, 41, 42, 43,\n",
              "       44, 45, 46, 47, 48, 49])"
            ]
          },
          "metadata": {},
          "execution_count": 4
        }
      ],
      "source": [
        "vector_2 = np.arange(10,50)\n",
        "vector_2"
      ],
      "id": "d8b86640"
    },
    {
      "cell_type": "markdown",
      "metadata": {
        "id": "0cc200be"
      },
      "source": [
        "#### 5. Создайте обратный вектор из вектора в задании 4 (первый элемент становится последним) (★☆☆)"
      ],
      "id": "0cc200be"
    },
    {
      "cell_type": "code",
      "execution_count": null,
      "metadata": {
        "colab": {
          "base_uri": "https://localhost:8080/"
        },
        "id": "ec044bb5",
        "outputId": "8a21c095-2854-4d77-da98-d7fc919f317a"
      },
      "outputs": [
        {
          "output_type": "execute_result",
          "data": {
            "text/plain": [
              "array([49, 48, 47, 46, 45, 44, 43, 42, 41, 40, 39, 38, 37, 36, 35, 34, 33,\n",
              "       32, 31, 30, 29, 28, 27, 26, 25, 24, 23, 22, 21, 20, 19, 18, 17, 16,\n",
              "       15, 14, 13, 12, 11, 10])"
            ]
          },
          "metadata": {},
          "execution_count": 5
        }
      ],
      "source": [
        "reverse_vector_2 = vector_2[::-1]\n",
        "reverse_vector_2"
      ],
      "id": "ec044bb5"
    },
    {
      "cell_type": "markdown",
      "metadata": {
        "id": "29d9ede4"
      },
      "source": [
        "#### 6. Создайте матрицу 3x3 со значениями от 0 до 8. (★☆☆)"
      ],
      "id": "29d9ede4"
    },
    {
      "cell_type": "code",
      "execution_count": null,
      "metadata": {
        "colab": {
          "base_uri": "https://localhost:8080/"
        },
        "id": "d9e39043",
        "outputId": "24bf07dd-e388-4cf0-9764-e3b4664c3d06"
      },
      "outputs": [
        {
          "output_type": "execute_result",
          "data": {
            "text/plain": [
              "array([[0, 1, 2],\n",
              "       [3, 4, 5],\n",
              "       [6, 7, 8]])"
            ]
          },
          "metadata": {},
          "execution_count": 6
        }
      ],
      "source": [
        "trian_matrix = np.arange(9).reshape((3,3))\n",
        "trian_matrix"
      ],
      "id": "d9e39043"
    },
    {
      "cell_type": "markdown",
      "metadata": {
        "id": "88905ceb"
      },
      "source": [
        "#### 7. Найти индексы ненулевых элементов из [1,2,0,0,4,0 (★☆☆)"
      ],
      "id": "88905ceb"
    },
    {
      "cell_type": "code",
      "execution_count": null,
      "metadata": {
        "colab": {
          "base_uri": "https://localhost:8080/"
        },
        "id": "b2f3c90a",
        "outputId": "e1a9ffd3-bec5-43db-fab6-00dcde6e0ed2"
      },
      "outputs": [
        {
          "output_type": "execute_result",
          "data": {
            "text/plain": [
              "[0, 1, 4]"
            ]
          },
          "metadata": {},
          "execution_count": 7
        }
      ],
      "source": [
        "th = [1,2,0,0,4,0]\n",
        "res = [i for i in range(len(th)) if th[i]!=0]\n",
        "res"
      ],
      "id": "b2f3c90a"
    },
    {
      "cell_type": "markdown",
      "metadata": {
        "id": "e15c249a"
      },
      "source": [
        "#### 8. Создайте массив 3x3x3 со случайными значениями (★☆☆)"
      ],
      "id": "e15c249a"
    },
    {
      "cell_type": "code",
      "execution_count": null,
      "metadata": {
        "colab": {
          "base_uri": "https://localhost:8080/"
        },
        "id": "ab21ed50",
        "outputId": "53fbd047-b972-46f4-fc69-f242ea56c428"
      },
      "outputs": [
        {
          "output_type": "execute_result",
          "data": {
            "text/plain": [
              "array([[[0.58319699, 0.76951884, 0.41951109],\n",
              "        [0.89306307, 0.97361994, 0.67521024],\n",
              "        [0.04444073, 0.61070933, 0.42038959]],\n",
              "\n",
              "       [[0.08468497, 0.50459558, 0.11476115],\n",
              "        [0.79307144, 0.83168212, 0.7768983 ],\n",
              "        [0.27624432, 0.8971805 , 0.9039685 ]],\n",
              "\n",
              "       [[0.01248304, 0.650911  , 0.14649372],\n",
              "        [0.15964472, 0.24225916, 0.27895324],\n",
              "        [0.14900158, 0.69152873, 0.14372032]]])"
            ]
          },
          "metadata": {},
          "execution_count": 8
        }
      ],
      "source": [
        "np.random.random((3,3,3))"
      ],
      "id": "ab21ed50"
    },
    {
      "cell_type": "markdown",
      "metadata": {
        "id": "157a129c"
      },
      "source": [
        "#### 9. Создайте массив 10x10 со случайными значениями и найдите минимальное и максимальное значения. (★☆☆)"
      ],
      "id": "157a129c"
    },
    {
      "cell_type": "code",
      "execution_count": null,
      "metadata": {
        "colab": {
          "base_uri": "https://localhost:8080/"
        },
        "id": "c0066de5",
        "outputId": "77b40b40-91a2-498c-c46c-8fa282be0373"
      },
      "outputs": [
        {
          "output_type": "stream",
          "name": "stdout",
          "text": [
            "[[0.75533486 0.06017025 0.35780005 0.35095303 0.53278924 0.53957841\n",
            "  0.37828493 0.39237458 0.09508414 0.62723809]\n",
            " [0.01056277 0.119406   0.29959558 0.24286715 0.83492372 0.77357246\n",
            "  0.79128106 0.57535395 0.38441129 0.24589528]\n",
            " [0.6341481  0.5520161  0.47673832 0.86176676 0.57619499 0.10299527\n",
            "  0.7421336  0.40128503 0.98583001 0.16010207]\n",
            " [0.41020284 0.55613326 0.8637918  0.06189686 0.26687372 0.77815415\n",
            "  0.74949093 0.73342945 0.93470155 0.2848099 ]\n",
            " [0.4716269  0.83875874 0.69398091 0.44674125 0.82097432 0.73507365\n",
            "  0.70936045 0.08996758 0.33238469 0.08060213]\n",
            " [0.84015065 0.29798726 0.01240438 0.32337601 0.79131519 0.30525548\n",
            "  0.72817748 0.42562101 0.14652413 0.86261407]\n",
            " [0.0389752  0.61217121 0.16966739 0.99856181 0.86637319 0.95386524\n",
            "  0.19332625 0.66821125 0.90570185 0.30816249]\n",
            " [0.78025187 0.08381003 0.46696094 0.63968003 0.92139934 0.07593443\n",
            "  0.18450219 0.50313151 0.75312993 0.20971646]\n",
            " [0.77844146 0.77220148 0.14752618 0.74299694 0.19946305 0.96898378\n",
            "  0.10124478 0.36594651 0.91037258 0.51973967]\n",
            " [0.14143571 0.09378742 0.93434219 0.0898008  0.81131859 0.4554321\n",
            "  0.59999923 0.03760485 0.30831588 0.45402913]] \n",
            "\n",
            "max=> 0.9985618136228578  min=> 0.010562773901195532\n"
          ]
        }
      ],
      "source": [
        "mass = np.random.random((10,10))\n",
        "print(mass,'\\n')\n",
        "print('max=>', mass.max(), ' min=>', mass.min())"
      ],
      "id": "c0066de5"
    },
    {
      "cell_type": "markdown",
      "metadata": {
        "id": "d92d7b32"
      },
      "source": [
        "#### 10. Создайте случайный вектор размера 30 и найдите среднее значение(★☆☆)"
      ],
      "id": "d92d7b32"
    },
    {
      "cell_type": "code",
      "execution_count": null,
      "metadata": {
        "colab": {
          "base_uri": "https://localhost:8080/"
        },
        "id": "9672d023",
        "outputId": "18029b9c-f5ad-4a72-f592-6aa0eda5f6c8"
      },
      "outputs": [
        {
          "output_type": "execute_result",
          "data": {
            "text/plain": [
              "0.4363735540689612"
            ]
          },
          "metadata": {},
          "execution_count": 10
        }
      ],
      "source": [
        "np.random.random((30)).mean()"
      ],
      "id": "9672d023"
    },
    {
      "cell_type": "markdown",
      "metadata": {
        "id": "f361efc0"
      },
      "source": [
        "#### 11. Создайте массив 2d 3x3 c 1 на границе и 0 внутри (★☆☆)"
      ],
      "id": "f361efc0"
    },
    {
      "cell_type": "code",
      "execution_count": null,
      "metadata": {
        "colab": {
          "base_uri": "https://localhost:8080/"
        },
        "id": "a55b6666",
        "outputId": "8acc11b1-b21d-4d86-97f9-3b652716bdf9"
      },
      "outputs": [
        {
          "output_type": "execute_result",
          "data": {
            "text/plain": [
              "array([[1., 1., 1.],\n",
              "       [1., 0., 1.],\n",
              "       [1., 1., 1.]])"
            ]
          },
          "metadata": {},
          "execution_count": 11
        }
      ],
      "source": [
        "m = np.ones((3,3))\n",
        "m[1][1] = 0\n",
        "m"
      ],
      "id": "a55b6666"
    },
    {
      "cell_type": "markdown",
      "metadata": {
        "id": "1af07d85"
      },
      "source": [
        "#### 12. Каков результат следующего выражения? (★☆☆)\n",
        "```python\n",
        "0 * np.nan\n",
        "np.nan == np.nan\n",
        "np.inf > np.nan\n",
        "np.nan - np.nan\n",
        "np.nan in set([np.nan])\n",
        "0.3 == 3 * 0.1\n",
        "```"
      ],
      "id": "1af07d85"
    },
    {
      "cell_type": "code",
      "execution_count": null,
      "metadata": {
        "colab": {
          "base_uri": "https://localhost:8080/"
        },
        "id": "109cf327",
        "outputId": "f51d18bc-b1fc-49cf-b045-1846e66dc1e0"
      },
      "outputs": [
        {
          "output_type": "stream",
          "name": "stdout",
          "text": [
            "nan\n",
            "False\n",
            "False\n",
            "nan\n",
            "True\n",
            "False\n",
            "\n"
          ]
        }
      ],
      "source": [
        "print('nan\\nFalse\\nFalse\\nnan\\nTrue\\nFalse\\n')"
      ],
      "id": "109cf327"
    },
    {
      "cell_type": "markdown",
      "metadata": {
        "id": "6431e977"
      },
      "source": [
        "#### 13. Рассмотрим массив размера (6,7,8). Каков индекс (x,y,z) 100-го элемента? (★☆☆)"
      ],
      "id": "6431e977"
    },
    {
      "cell_type": "code",
      "execution_count": null,
      "metadata": {
        "colab": {
          "base_uri": "https://localhost:8080/"
        },
        "id": "de8b0245",
        "outputId": "1b9cdc1a-f17e-477f-cac1-6e57d35e755b"
      },
      "outputs": [
        {
          "output_type": "stream",
          "name": "stdout",
          "text": [
            "1 5 3\n"
          ]
        }
      ],
      "source": [
        "mass = np.random.random((6,7,8))\n",
        "indexs = np.where(mass == mass.reshape(6*7*8)[99])  # можно еще использовать np.ravel вместо reshape\n",
        "print(*indexs[0],*indexs[1], *indexs[2])"
      ],
      "id": "de8b0245"
    },
    {
      "cell_type": "markdown",
      "metadata": {
        "id": "06c63bb3"
      },
      "source": [
        "#### 14. Умножить матрицу 5x3 на матрицу 3x2(★☆☆)"
      ],
      "id": "06c63bb3"
    },
    {
      "cell_type": "code",
      "execution_count": null,
      "metadata": {
        "colab": {
          "base_uri": "https://localhost:8080/"
        },
        "id": "9fc0d553",
        "outputId": "39d39b14-d5f9-46a6-af78-34a2c474d08a"
      },
      "outputs": [
        {
          "output_type": "execute_result",
          "data": {
            "text/plain": [
              "array([[1.37159936, 0.65321739],\n",
              "       [0.74051934, 0.41078291],\n",
              "       [1.00602674, 0.31348069],\n",
              "       [0.95190942, 0.53122929],\n",
              "       [1.47695591, 0.66676567]])"
            ]
          },
          "metadata": {},
          "execution_count": 14
        }
      ],
      "source": [
        "a = np.random.random((5,3))\n",
        "b = np.random.random((3,2))\n",
        "np.dot(a,b)"
      ],
      "id": "9fc0d553"
    },
    {
      "cell_type": "markdown",
      "metadata": {
        "id": "76fa6285"
      },
      "source": [
        "#### 15. Создайте одномерный массив со случайными значениями от 1 до 10, инвертируйте (поменяйте местами) все элементы, со значениями 3 и 8. (★☆☆)"
      ],
      "id": "76fa6285"
    },
    {
      "cell_type": "code",
      "execution_count": null,
      "metadata": {
        "colab": {
          "base_uri": "https://localhost:8080/"
        },
        "id": "0e25eca7",
        "outputId": "4ddeaed7-55e8-40df-90b2-d7ecefa8b039"
      },
      "outputs": [
        {
          "output_type": "stream",
          "name": "stdout",
          "text": [
            "Текущий -> [ 9  2  7  8 10  9  6  7  4  1 10  4  8  6  6  4  3  2  4 10]\n",
            "Изменный -> [ 9  2  7  3 10  9  6  7  4  1 10  4  3  6  6  4  8  2  4 10]\n"
          ]
        }
      ],
      "source": [
        "mass_3 = np.random.randint(1, 11, size=20) #допустим размер такой\n",
        "arr3 = np.where(mass_3 == 3)[0]\n",
        "arr8 = np.where(mass_3 == 8)[0]\n",
        "print('Текущий ->',mass_3)\n",
        "if len(arr3)!=0 and len(arr8)!=0:\n",
        "  for i in range(len(mass_3)):\n",
        "    if i in arr3:\n",
        "      mass_3[i] = 8\n",
        "    elif i in arr8:\n",
        "      mass_3[i] = 3\n",
        "  print('Изменный ->',mass_3)\n",
        "else:\n",
        "  print('нет данных по условию в данном массиве, обновите данные')"
      ],
      "id": "0e25eca7"
    },
    {
      "cell_type": "markdown",
      "metadata": {
        "id": "a6eaf0e8"
      },
      "source": [
        "#### 16. Каков результат следующих выражений? (★☆☆)\n",
        "```python\n",
        "np.array(0) / np.array(0)\n",
        "np.array(0) // np.array(0)\n",
        "np.array([np.nan]).astype(int).astype(float)\n",
        "```"
      ],
      "id": "a6eaf0e8"
    },
    {
      "cell_type": "code",
      "execution_count": null,
      "metadata": {
        "colab": {
          "base_uri": "https://localhost:8080/"
        },
        "id": "93684068",
        "outputId": "9d40b985-ce8a-418d-abed-ff411232077c"
      },
      "outputs": [
        {
          "output_type": "stream",
          "name": "stdout",
          "text": [
            "nan\n",
            "0\n",
            "[-9.22337204e+18]\n"
          ]
        },
        {
          "output_type": "stream",
          "name": "stderr",
          "text": [
            "<ipython-input-16-1f95df3dc0d5>:1: RuntimeWarning: invalid value encountered in true_divide\n",
            "  print(np.array(0) / np.array(0))\n",
            "<ipython-input-16-1f95df3dc0d5>:2: RuntimeWarning: divide by zero encountered in floor_divide\n",
            "  print(np.array(0) // np.array(0))\n"
          ]
        }
      ],
      "source": [
        "print(np.array(0) / np.array(0))\n",
        "print(np.array(0) // np.array(0))\n",
        "print(np.array([np.nan]).astype(int).astype(float))"
      ],
      "id": "93684068"
    },
    {
      "cell_type": "markdown",
      "metadata": {
        "id": "8dc40752"
      },
      "source": [
        "#### 17. Как найти общие значения между двумя массивами? (★☆☆)"
      ],
      "id": "8dc40752"
    },
    {
      "cell_type": "code",
      "execution_count": null,
      "metadata": {
        "colab": {
          "base_uri": "https://localhost:8080/"
        },
        "id": "54399cbe",
        "outputId": "a19d8927-b75e-4b10-ee34-8d381615e475"
      },
      "outputs": [
        {
          "output_type": "execute_result",
          "data": {
            "text/plain": [
              "array([2, 3, 4, 9])"
            ]
          },
          "metadata": {},
          "execution_count": 17
        }
      ],
      "source": [
        "aa = np.array([1,2,3,4,5,9,0,14])\n",
        "bb = np.array([3,2,8,9,4,11,12,13])\n",
        "np.intersect1d(aa,bb)"
      ],
      "id": "54399cbe"
    },
    {
      "cell_type": "markdown",
      "metadata": {
        "id": "52667b6e"
      },
      "source": [
        "#### 18. Как вычислить ((A+B)*(-A/2)) с заменой массива А (без копирования)? (★★☆)"
      ],
      "id": "52667b6e"
    },
    {
      "cell_type": "code",
      "execution_count": null,
      "metadata": {
        "colab": {
          "base_uri": "https://localhost:8080/"
        },
        "id": "e6e7c030",
        "outputId": "4385e9c2-e494-49bc-89c1-f83dd5c402ef"
      },
      "outputs": [
        {
          "output_type": "execute_result",
          "data": {
            "text/plain": [
              "array([ -0.5,  -1.5,   0. ,  -8. , -18. ,   0. ,  -4.5, -12. , -30. ,\n",
              "       -12.5,   0. ,   0. , -30. , -16. , -17.5])"
            ]
          },
          "metadata": {},
          "execution_count": 18
        }
      ],
      "source": [
        "A = np.random.randint(8, size=15)\n",
        "B = np.random.randint(5, size=15)\n",
        "A = (A+B)*(-A/2)\n",
        "A"
      ],
      "id": "e6e7c030"
    },
    {
      "cell_type": "markdown",
      "metadata": {
        "id": "cab1eed1"
      },
      "source": [
        "#### 19. Создайте матрицу 5x5 со значениями строк от 0 до 4. (★★☆)"
      ],
      "id": "cab1eed1"
    },
    {
      "cell_type": "code",
      "execution_count": null,
      "metadata": {
        "colab": {
          "base_uri": "https://localhost:8080/"
        },
        "id": "f1b579ba",
        "outputId": "7f0b5c0c-010c-403a-f6cd-72a926f3fda8"
      },
      "outputs": [
        {
          "output_type": "execute_result",
          "data": {
            "text/plain": [
              "array([[0, 1, 2, 3, 4],\n",
              "       [0, 1, 2, 3, 4],\n",
              "       [0, 1, 2, 3, 4],\n",
              "       [0, 1, 2, 3, 4],\n",
              "       [0, 1, 2, 3, 4]])"
            ]
          },
          "metadata": {},
          "execution_count": 19
        }
      ],
      "source": [
        "np.array([np.arange(0, 5)] * 5)"
      ],
      "id": "f1b579ba"
    },
    {
      "cell_type": "markdown",
      "metadata": {
        "id": "c4c942d1"
      },
      "source": [
        "#### 20. Создайте вектор размера 10 со значениями в диапазоне от 0 до 1, исключая 1 и 0 (★★☆)"
      ],
      "id": "c4c942d1"
    },
    {
      "cell_type": "code",
      "execution_count": null,
      "metadata": {
        "colab": {
          "base_uri": "https://localhost:8080/"
        },
        "id": "e42eaa4b",
        "outputId": "1e228876-dcc6-4b87-9eeb-cf5dd19c4f85"
      },
      "outputs": [
        {
          "output_type": "execute_result",
          "data": {
            "text/plain": [
              "array([0.05, 0.15, 0.25, 0.35, 0.45, 0.55, 0.65, 0.75, 0.85, 0.95])"
            ]
          },
          "metadata": {},
          "execution_count": 20
        }
      ],
      "source": [
        "np.arange(0.05, 1, 0.1)"
      ],
      "id": "e42eaa4b"
    },
    {
      "cell_type": "markdown",
      "metadata": {
        "id": "9b3cb8d2"
      },
      "source": [
        "#### 21. Создайте случайный вектор размера 10 и отсортируйте его (★★☆)"
      ],
      "id": "9b3cb8d2"
    },
    {
      "cell_type": "code",
      "execution_count": null,
      "metadata": {
        "colab": {
          "base_uri": "https://localhost:8080/"
        },
        "id": "37d2b341",
        "outputId": "7d8a0793-8b20-47f2-ae62-3bcf9cf77383"
      },
      "outputs": [
        {
          "output_type": "stream",
          "name": "stdout",
          "text": [
            "now -  [0.06873323 0.43588009 0.00703641 0.26734042 0.89327701 0.41710006\n",
            " 0.69395155 0.97852168 0.90944684 0.67195219]\n",
            "sorted -  [0.00703641 0.06873323 0.26734042 0.41710006 0.43588009 0.67195219\n",
            " 0.69395155 0.89327701 0.90944684 0.97852168]\n"
          ]
        }
      ],
      "source": [
        "c = np.random.random(10)\n",
        "print('now - ',c)\n",
        "c.sort()\n",
        "print('sorted - ',c)"
      ],
      "id": "37d2b341"
    },
    {
      "cell_type": "markdown",
      "metadata": {
        "id": "2facfddc"
      },
      "source": [
        "#### 22. Можно ли суммировать небольшой массив быстрее, чем np.sum? (★★☆)"
      ],
      "id": "2facfddc"
    },
    {
      "cell_type": "code",
      "execution_count": null,
      "metadata": {
        "colab": {
          "base_uri": "https://localhost:8080/"
        },
        "id": "4bb8864f",
        "outputId": "383f3810-d17f-46fa-b485-cee81d4fa5b8"
      },
      "outputs": [
        {
          "output_type": "stream",
          "name": "stdout",
          "text": [
            "sum function: 0.00011920928955078125\n",
            "reduce function: 0.0001552104949951172\n",
            "simple loop: 0.0001232624053955078\n"
          ]
        }
      ],
      "source": [
        "import time\n",
        "\n",
        "a = np.array([0,0,1,2,2,1])\n",
        "start_time = time.time()\n",
        "s = sum(a)\n",
        "end_time = time.time()\n",
        "print(\"sum function:\", end_time - start_time)\n",
        "\n",
        "from functools import reduce\n",
        "\n",
        "start_time = time.time()\n",
        "s = reduce(lambda x, y: x+y, a)\n",
        "end_time = time.time()\n",
        "print(\"reduce function:\", end_time - start_time)\n",
        "\n",
        "\n",
        "start_time = time.time()\n",
        "s = 0\n",
        "for i in a:\n",
        "    s += i\n",
        "end_time = time.time()\n",
        "print(\"simple loop:\", end_time - start_time)\n",
        "\n"
      ],
      "id": "4bb8864f"
    },
    {
      "cell_type": "markdown",
      "metadata": {
        "id": "539cd2a5"
      },
      "source": [
        "#### 23. Рассмотрим два случайных массива A и B, проверьте, равны ли они(★★☆)"
      ],
      "id": "539cd2a5"
    },
    {
      "cell_type": "code",
      "execution_count": null,
      "metadata": {
        "colab": {
          "base_uri": "https://localhost:8080/"
        },
        "id": "5246d7bf",
        "outputId": "4aa7a474-cbda-45f1-b3dd-8d36b995b5f0"
      },
      "outputs": [
        {
          "output_type": "execute_result",
          "data": {
            "text/plain": [
              "array([False, False, False, False, False, False, False, False, False,\n",
              "       False, False])"
            ]
          },
          "metadata": {},
          "execution_count": 25
        }
      ],
      "source": [
        "A = np.random.random(11)\n",
        "B = np.random.random(11)\n",
        "A == B"
      ],
      "id": "5246d7bf"
    },
    {
      "cell_type": "markdown",
      "metadata": {
        "id": "a556027a"
      },
      "source": [
        "#### 24. Создайте случайный вектор размера 10 и замените максимальное значение на 0 (★★☆)"
      ],
      "id": "a556027a"
    },
    {
      "cell_type": "code",
      "execution_count": null,
      "metadata": {
        "colab": {
          "base_uri": "https://localhost:8080/"
        },
        "id": "9e07cb87",
        "outputId": "34f2a971-5b89-42b1-cc3a-efdb93ba90d5"
      },
      "outputs": [
        {
          "output_type": "stream",
          "name": "stdout",
          "text": [
            "before -> [0.20498157 0.21561172 0.50553431 0.91430649 0.1335363  0.36424774\n",
            " 0.62494536 0.294822   0.97900079 0.3301439 ]\n",
            "now -> [0.20498157 0.21561172 0.50553431 0.91430649 0.1335363  0.36424774\n",
            " 0.62494536 0.294822   0.         0.3301439 ]\n"
          ]
        }
      ],
      "source": [
        "v = np.random.random(10)\n",
        "print('before ->', v)\n",
        "v[v==v.max()] = 0 #очень выручает в pandas\n",
        "print('now ->', v)\n",
        "# можно сделать через поиска индекса и замена по индексу, но это подольше будет"
      ],
      "id": "9e07cb87"
    },
    {
      "cell_type": "markdown",
      "metadata": {
        "id": "c8a2f65a"
      },
      "source": [
        "#### 25. Распечатайте минимальное и максимальное представимое значение для каждого скалярного типа numpy (★★☆)"
      ],
      "id": "c8a2f65a"
    },
    {
      "cell_type": "code",
      "execution_count": null,
      "metadata": {
        "colab": {
          "base_uri": "https://localhost:8080/"
        },
        "id": "35d844d6",
        "outputId": "4c8d8f15-9ebd-4cfb-de13-80256a0efedd"
      },
      "outputs": [
        {
          "output_type": "stream",
          "name": "stdout",
          "text": [
            "<class 'numpy.int8'> min => -128\n",
            "<class 'numpy.int8'> max => 127 \n",
            "\n",
            "<class 'numpy.int32'> min => -2147483648\n",
            "<class 'numpy.int32'> max => 2147483647 \n",
            "\n",
            "<class 'numpy.int64'> min => -9223372036854775808\n",
            "<class 'numpy.int64'> max => 9223372036854775807 \n",
            "\n",
            "<class 'numpy.float32'> min => -3.4028235e+38\n",
            "<class 'numpy.float32'> max => 3.4028235e+38 \n",
            "\n",
            "<class 'numpy.float64'> min => -1.7976931348623157e+308\n",
            "<class 'numpy.float64'> max => 1.7976931348623157e+308 \n",
            "\n"
          ]
        }
      ],
      "source": [
        "for dtype in [np.int8, np.int32, np.int64]:\n",
        "   print(dtype, 'min =>', np.iinfo(dtype).min)\n",
        "   print(dtype, 'max =>', np.iinfo(dtype).max, '\\n')\n",
        "\n",
        "for dtype in [np.float32, np.float64]:\n",
        "   print(dtype, 'min =>',np.finfo(dtype).min)\n",
        "   print(dtype, 'max =>',np.finfo(dtype).max, '\\n')"
      ],
      "id": "35d844d6"
    },
    {
      "cell_type": "markdown",
      "metadata": {
        "id": "11727a69"
      },
      "source": [
        "#### 26. Как вывести все значения большого массива? (★★☆)"
      ],
      "id": "11727a69"
    },
    {
      "cell_type": "code",
      "execution_count": null,
      "metadata": {
        "colab": {
          "base_uri": "https://localhost:8080/"
        },
        "id": "47e98473",
        "outputId": "0500e393-9fb7-4ae1-e524-2fce31bd808f"
      },
      "outputs": [
        {
          "output_type": "stream",
          "name": "stdout",
          "text": [
            "[   0    1    2    3    4    5    6    7    8    9   10   11   12   13\n",
            "   14   15   16   17   18   19   20   21   22   23   24   25   26   27\n",
            "   28   29   30   31   32   33   34   35   36   37   38   39   40   41\n",
            "   42   43   44   45   46   47   48   49   50   51   52   53   54   55\n",
            "   56   57   58   59   60   61   62   63   64   65   66   67   68   69\n",
            "   70   71   72   73   74   75   76   77   78   79   80   81   82   83\n",
            "   84   85   86   87   88   89   90   91   92   93   94   95   96   97\n",
            "   98   99  100  101  102  103  104  105  106  107  108  109  110  111\n",
            "  112  113  114  115  116  117  118  119  120  121  122  123  124  125\n",
            "  126  127  128  129  130  131  132  133  134  135  136  137  138  139\n",
            "  140  141  142  143  144  145  146  147  148  149  150  151  152  153\n",
            "  154  155  156  157  158  159  160  161  162  163  164  165  166  167\n",
            "  168  169  170  171  172  173  174  175  176  177  178  179  180  181\n",
            "  182  183  184  185  186  187  188  189  190  191  192  193  194  195\n",
            "  196  197  198  199  200  201  202  203  204  205  206  207  208  209\n",
            "  210  211  212  213  214  215  216  217  218  219  220  221  222  223\n",
            "  224  225  226  227  228  229  230  231  232  233  234  235  236  237\n",
            "  238  239  240  241  242  243  244  245  246  247  248  249  250  251\n",
            "  252  253  254  255  256  257  258  259  260  261  262  263  264  265\n",
            "  266  267  268  269  270  271  272  273  274  275  276  277  278  279\n",
            "  280  281  282  283  284  285  286  287  288  289  290  291  292  293\n",
            "  294  295  296  297  298  299  300  301  302  303  304  305  306  307\n",
            "  308  309  310  311  312  313  314  315  316  317  318  319  320  321\n",
            "  322  323  324  325  326  327  328  329  330  331  332  333  334  335\n",
            "  336  337  338  339  340  341  342  343  344  345  346  347  348  349\n",
            "  350  351  352  353  354  355  356  357  358  359  360  361  362  363\n",
            "  364  365  366  367  368  369  370  371  372  373  374  375  376  377\n",
            "  378  379  380  381  382  383  384  385  386  387  388  389  390  391\n",
            "  392  393  394  395  396  397  398  399  400  401  402  403  404  405\n",
            "  406  407  408  409  410  411  412  413  414  415  416  417  418  419\n",
            "  420  421  422  423  424  425  426  427  428  429  430  431  432  433\n",
            "  434  435  436  437  438  439  440  441  442  443  444  445  446  447\n",
            "  448  449  450  451  452  453  454  455  456  457  458  459  460  461\n",
            "  462  463  464  465  466  467  468  469  470  471  472  473  474  475\n",
            "  476  477  478  479  480  481  482  483  484  485  486  487  488  489\n",
            "  490  491  492  493  494  495  496  497  498  499  500  501  502  503\n",
            "  504  505  506  507  508  509  510  511  512  513  514  515  516  517\n",
            "  518  519  520  521  522  523  524  525  526  527  528  529  530  531\n",
            "  532  533  534  535  536  537  538  539  540  541  542  543  544  545\n",
            "  546  547  548  549  550  551  552  553  554  555  556  557  558  559\n",
            "  560  561  562  563  564  565  566  567  568  569  570  571  572  573\n",
            "  574  575  576  577  578  579  580  581  582  583  584  585  586  587\n",
            "  588  589  590  591  592  593  594  595  596  597  598  599  600  601\n",
            "  602  603  604  605  606  607  608  609  610  611  612  613  614  615\n",
            "  616  617  618  619  620  621  622  623  624  625  626  627  628  629\n",
            "  630  631  632  633  634  635  636  637  638  639  640  641  642  643\n",
            "  644  645  646  647  648  649  650  651  652  653  654  655  656  657\n",
            "  658  659  660  661  662  663  664  665  666  667  668  669  670  671\n",
            "  672  673  674  675  676  677  678  679  680  681  682  683  684  685\n",
            "  686  687  688  689  690  691  692  693  694  695  696  697  698  699\n",
            "  700  701  702  703  704  705  706  707  708  709  710  711  712  713\n",
            "  714  715  716  717  718  719  720  721  722  723  724  725  726  727\n",
            "  728  729  730  731  732  733  734  735  736  737  738  739  740  741\n",
            "  742  743  744  745  746  747  748  749  750  751  752  753  754  755\n",
            "  756  757  758  759  760  761  762  763  764  765  766  767  768  769\n",
            "  770  771  772  773  774  775  776  777  778  779  780  781  782  783\n",
            "  784  785  786  787  788  789  790  791  792  793  794  795  796  797\n",
            "  798  799  800  801  802  803  804  805  806  807  808  809  810  811\n",
            "  812  813  814  815  816  817  818  819  820  821  822  823  824  825\n",
            "  826  827  828  829  830  831  832  833  834  835  836  837  838  839\n",
            "  840  841  842  843  844  845  846  847  848  849  850  851  852  853\n",
            "  854  855  856  857  858  859  860  861  862  863  864  865  866  867\n",
            "  868  869  870  871  872  873  874  875  876  877  878  879  880  881\n",
            "  882  883  884  885  886  887  888  889  890  891  892  893  894  895\n",
            "  896  897  898  899  900  901  902  903  904  905  906  907  908  909\n",
            "  910  911  912  913  914  915  916  917  918  919  920  921  922  923\n",
            "  924  925  926  927  928  929  930  931  932  933  934  935  936  937\n",
            "  938  939  940  941  942  943  944  945  946  947  948  949  950  951\n",
            "  952  953  954  955  956  957  958  959  960  961  962  963  964  965\n",
            "  966  967  968  969  970  971  972  973  974  975  976  977  978  979\n",
            "  980  981  982  983  984  985  986  987  988  989  990  991  992  993\n",
            "  994  995  996  997  998  999 1000]\n"
          ]
        }
      ],
      "source": [
        "np.set_printoptions(threshold=1001)\n",
        "print(np.arange(1001))"
      ],
      "id": "47e98473"
    },
    {
      "cell_type": "markdown",
      "metadata": {
        "id": "d22b8574"
      },
      "source": [
        "#### 27. Рассмотрим случайный вектор формы (100,2), представляющий координаты, найдите расстояния между точками. (★★☆)"
      ],
      "id": "d22b8574"
    },
    {
      "cell_type": "code",
      "execution_count": null,
      "metadata": {
        "colab": {
          "base_uri": "https://localhost:8080/"
        },
        "id": "d5c9cdf8",
        "outputId": "a02e427f-0ef0-47b2-b9ef-6184233c07af"
      },
      "outputs": [
        {
          "output_type": "stream",
          "name": "stdout",
          "text": [
            "[[0.         0.43452765 0.24598925 ... 0.37083336 0.26787833 0.76667642]\n",
            " [0.43452765 0.         0.60515092 ... 0.75762853 0.52245301 0.71437974]\n",
            " [0.24598925 0.60515092 0.         ... 0.15371539 0.48849562 0.66423996]\n",
            " ...\n",
            " [0.37083336 0.75762853 0.15371539 ... 0.         0.57279683 0.75261645]\n",
            " [0.26787833 0.52245301 0.48849562 ... 0.57279683 0.         1.02189865]\n",
            " [0.76667642 0.71437974 0.66423996 ... 0.75261645 1.02189865 0.        ]] \n",
            "\n"
          ]
        }
      ],
      "source": [
        "r_v = np.random.random((100,2))\n",
        "x,y = np.atleast_2d(r_v[:,0], r_v[:,1])\n",
        "D =  np.sqrt( (x-x.T)**2 + (y-y.T)**2)\n",
        "print(D,'\\n')"
      ],
      "id": "d5c9cdf8"
    },
    {
      "cell_type": "markdown",
      "metadata": {
        "id": "f5c164f2"
      },
      "source": [
        "#### 28. Как преобразовать массив с плавающей запятой (32 бита) в целое число (32 бита) с заменой?"
      ],
      "id": "f5c164f2"
    },
    {
      "cell_type": "code",
      "execution_count": null,
      "metadata": {
        "colab": {
          "base_uri": "https://localhost:8080/"
        },
        "id": "ea262de8",
        "outputId": "179887e4-150a-4e6b-e5ac-3bf61f0e078e"
      },
      "outputs": [
        {
          "output_type": "execute_result",
          "data": {
            "text/plain": [
              "array([ 0,  1,  2,  3,  4,  5,  6,  7,  8,  9, 10, 11, 12, 13, 14],\n",
              "      dtype=int32)"
            ]
          },
          "metadata": {},
          "execution_count": 30
        }
      ],
      "source": [
        "l = np.arange(15, dtype=np.float32)\n",
        "l.astype(np.int32)"
      ],
      "id": "ea262de8"
    },
    {
      "cell_type": "markdown",
      "metadata": {
        "id": "a8b7e6f5"
      },
      "source": [
        "#### 29. Создайте массив из следующего файла: (★★☆)\n",
        "```\n",
        "1, 2, 3, 4, 5\n",
        "6,  ,  , 7, 8\n",
        " ,  , 9,10,11\n",
        "```"
      ],
      "id": "a8b7e6f5"
    },
    {
      "cell_type": "code",
      "execution_count": null,
      "metadata": {
        "colab": {
          "base_uri": "https://localhost:8080/"
        },
        "id": "bde0538a",
        "outputId": "31fa7895-379f-4748-8518-a8b8dec373e4"
      },
      "outputs": [
        {
          "output_type": "execute_result",
          "data": {
            "text/plain": [
              "array([[ 1.,  2.,  3.,  4.,  5.],\n",
              "       [ 6., nan, nan,  7.,  8.],\n",
              "       [nan, nan,  9., 10., 11.]])"
            ]
          },
          "metadata": {},
          "execution_count": 31
        }
      ],
      "source": [
        "from io import StringIO\n",
        "s = StringIO(\"\"\"1, 2, 3, 4, 5\\n\n",
        "                6,  ,  , 7, 8\\n\n",
        "                 ,  , 9,10,11\\n\"\"\")\n",
        "\n",
        "np.genfromtxt(s, delimiter=\",\")"
      ],
      "id": "bde0538a"
    },
    {
      "cell_type": "markdown",
      "metadata": {
        "id": "bfd2513c"
      },
      "source": [
        "#### 30. Вычтите среднее значение каждой строки случайной матрицы. (★★☆)"
      ],
      "id": "bfd2513c"
    },
    {
      "cell_type": "code",
      "execution_count": null,
      "metadata": {
        "id": "f306ab72",
        "colab": {
          "base_uri": "https://localhost:8080/"
        },
        "outputId": "7409e2e0-8095-45dd-8008-0deb205a9ac8"
      },
      "outputs": [
        {
          "output_type": "stream",
          "name": "stdout",
          "text": [
            "before  [[0.21715287 0.04665692]\n",
            " [0.50446239 0.39475426]\n",
            " [0.48716577 0.00873151]]\n",
            "mean -  0.13190489131115396\n",
            "mean -  0.4496083280279519\n",
            "mean -  0.24794863784904497\n",
            "now  [[ 0.08524798 -0.08524798]\n",
            " [ 0.05485406 -0.05485406]\n",
            " [ 0.23921713 -0.23921713]]\n"
          ]
        }
      ],
      "source": [
        "import numpy as np\n",
        "m = np.random.rand(3,2)\n",
        "print('before ', m)\n",
        "for mas in m:\n",
        "  print('mean - ', mas.mean())\n",
        "  mas -= mas.mean()\n",
        "print('now ', m)"
      ],
      "id": "f306ab72"
    },
    {
      "cell_type": "markdown",
      "metadata": {
        "id": "f30162d2"
      },
      "source": [
        "#### 31. Рассмотрим случайный вектор, как добавить 1 к каждому элементу, индексированному вторым вектором (будьте осторожны с повторяющимися индексами)? (★★★)"
      ],
      "id": "f30162d2"
    },
    {
      "cell_type": "code",
      "execution_count": null,
      "metadata": {
        "id": "093ba36f",
        "colab": {
          "base_uri": "https://localhost:8080/"
        },
        "outputId": "98c3b335-7d0e-48d5-8de4-dc3e5c84f26e"
      },
      "outputs": [
        {
          "output_type": "stream",
          "name": "stdout",
          "text": [
            "[0.64622552 1.67210525 1.21959928 1.79077702 0.33852262 0.03375442\n",
            " 1.33713833 0.69362808 1.41364017 0.711618  ]\n"
          ]
        }
      ],
      "source": [
        "vector_1 = np.random.rand(10)\n",
        "indexs = np.array([8,3,6,2,1]) # например\n",
        "for i in indexs:\n",
        "  vector_1[i]+=1\n",
        "print(vector_1)"
      ],
      "id": "093ba36f"
    },
    {
      "cell_type": "markdown",
      "metadata": {
        "id": "f5b1c584"
      },
      "source": [
        "#### 32. Как перенести элементы вектора (X) в массив (F) на основе списка индексов (I)? (★★★)"
      ],
      "id": "f5b1c584"
    },
    {
      "cell_type": "code",
      "execution_count": null,
      "metadata": {
        "id": "c9d92a75",
        "colab": {
          "base_uri": "https://localhost:8080/"
        },
        "outputId": "a7795445-5b05-4ffb-b0fa-130b568ceaf2"
      },
      "outputs": [
        {
          "output_type": "stream",
          "name": "stdout",
          "text": [
            "from -> [ 9  5  7  3  0 13 14  8 12 12]\n",
            "to -> [ 5  9 10 19 14  1 14 19 18  5 16  4 14  2]\n",
            "indexs -> [ 9  5  6  3 11  0  8  1  6  4]\n",
            "result -> [13  8 10  3 12  5 12 19 14  9 16  0 14  2]\n",
            "result -> [13.  8.  0.  3. 12.  5. 19.  0. 14.  9.  0.  0.]\n"
          ]
        }
      ],
      "source": [
        "X = np.random.randint(0, 15, size=10)\n",
        "F = np.random.randint(0, 20, size=14)\n",
        "I = np.random.randint(0,12, size=10)\n",
        "print('from ->', X)\n",
        "print('to ->', F)\n",
        "print('indexs ->', I)\n",
        "\n",
        "for i in range(10):\n",
        "  F[I[i]] = X[i]\n",
        "\n",
        "print('result ->', F)\n",
        "\n",
        "print('result ->', np.bincount(I,X))"
      ],
      "id": "c9d92a75"
    },
    {
      "cell_type": "markdown",
      "metadata": {
        "id": "4bddeb31"
      },
      "source": [
        "#### 33. Рассматривая четырехмерный массив, как получить сумму сразу (в одну операцию) по двум последним осям? (★★★)"
      ],
      "id": "4bddeb31"
    },
    {
      "cell_type": "code",
      "execution_count": null,
      "metadata": {
        "id": "32af15f5",
        "colab": {
          "base_uri": "https://localhost:8080/"
        },
        "outputId": "757012d3-ffb5-43ef-c290-c8b7da7d4a55"
      },
      "outputs": [
        {
          "output_type": "stream",
          "name": "stdout",
          "text": [
            "[[[[3 1]\n",
            "   [4 6]]\n",
            "\n",
            "  [[8 4]\n",
            "   [0 6]]]\n",
            "\n",
            "\n",
            " [[[1 0]\n",
            "   [8 9]]\n",
            "\n",
            "  [[9 9]\n",
            "   [5 5]]]] \n",
            "\n",
            "sum -> [14 18] [18 28]\n"
          ]
        }
      ],
      "source": [
        "A = np.random.randint(0,10,(2,2,2,2))\n",
        "print(A,\"\\n\")\n",
        "print('sum ->', *A.sum(axis=(-2,-1)))"
      ],
      "id": "32af15f5"
    },
    {
      "cell_type": "markdown",
      "metadata": {
        "id": "de727a7b"
      },
      "source": [
        "#### 34. Рассмотрим вектор [1, 2, 3, 4, 5], как построить новый вектор с 3 последовательными нулями, чередующимися между каждым значением? (★★★)"
      ],
      "id": "de727a7b"
    },
    {
      "cell_type": "code",
      "execution_count": null,
      "metadata": {
        "id": "982be812",
        "colab": {
          "base_uri": "https://localhost:8080/"
        },
        "outputId": "2123e444-f53a-4665-aa62-fff0eee81f2c"
      },
      "outputs": [
        {
          "output_type": "stream",
          "name": "stdout",
          "text": [
            "[1. 0. 0. 0. 2. 0. 0. 0. 3. 0. 0. 0. 4. 0. 0. 0. 5.]\n"
          ]
        }
      ],
      "source": [
        "f = np.array([1, 2, 3, 4, 5])\n",
        "new_f = np.zeros(len(f) + (len(f)-1)*(3))\n",
        "new_f[::4] = f\n",
        "\n",
        "print(new_f)"
      ],
      "id": "982be812"
    },
    {
      "cell_type": "markdown",
      "metadata": {
        "id": "a9a73d6b"
      },
      "source": [
        "#### 35. Рассмотрим массив размерности (5,5,3), как его умножить на массив размерностью (5,5)? (★★★)"
      ],
      "id": "a9a73d6b"
    },
    {
      "cell_type": "code",
      "execution_count": null,
      "metadata": {
        "id": "282a90cc",
        "colab": {
          "base_uri": "https://localhost:8080/"
        },
        "outputId": "fc7f024d-adc4-4423-9363-3e1bc2a682d2"
      },
      "outputs": [
        {
          "output_type": "stream",
          "name": "stdout",
          "text": [
            "massiv 5x5x3:\n",
            " [[[0.32516277 0.30273077 0.38494621]\n",
            "  [0.9018156  0.33004767 0.36195539]\n",
            "  [0.41343221 0.65448065 0.25033005]\n",
            "  [0.05419438 0.71961541 0.16373737]\n",
            "  [0.84807979 0.17723936 0.55304525]]\n",
            "\n",
            " [[0.61359995 0.17625994 0.82918558]\n",
            "  [0.01280302 0.80664984 0.03891089]\n",
            "  [0.3744288  0.71958839 0.29369231]\n",
            "  [0.40753707 0.74935683 0.34075561]\n",
            "  [0.02978252 0.15893793 0.59583124]]\n",
            "\n",
            " [[0.07240336 0.07250416 0.6680409 ]\n",
            "  [0.47102295 0.90153316 0.38766745]\n",
            "  [0.58134371 0.70057986 0.85229616]\n",
            "  [0.97084784 0.35806243 0.71768792]\n",
            "  [0.54010726 0.3646009  0.14975042]]\n",
            "\n",
            " [[0.03174561 0.3917953  0.58655455]\n",
            "  [0.10681046 0.30696622 0.52961868]\n",
            "  [0.91503102 0.79062294 0.51492968]\n",
            "  [0.95842571 0.61885692 0.88906769]\n",
            "  [0.791897   0.66749211 0.92611675]]\n",
            "\n",
            " [[0.60398238 0.77378489 0.64916365]\n",
            "  [0.36670269 0.38615015 0.59193941]\n",
            "  [0.16180123 0.40642238 0.75928781]\n",
            "  [0.35225278 0.11093666 0.67821319]\n",
            "  [0.83189593 0.19030202 0.3385584 ]]] \n",
            "\n",
            "massiv 5x5:\n",
            " [[0.958116   0.58905139 0.78220157 0.43221941 0.87664342]\n",
            " [0.64614199 0.64892403 0.53235756 0.89246476 0.58085973]\n",
            " [0.02479899 0.2801556  0.42313574 0.90047741 0.4891385 ]\n",
            " [0.24795009 0.11206811 0.6723511  0.07975456 0.78016222]\n",
            " [0.77222218 0.30762656 0.60623478 0.04291581 0.45598119]] \n",
            "\n",
            "multiplied:\n",
            " [[[0.31154365 0.29005119 0.36882312]\n",
            "  [0.53121574 0.19441504 0.21321033]\n",
            "  [0.32338733 0.51193579 0.19580856]\n",
            "  [0.02342386 0.31103175 0.07077047]\n",
            "  [0.74346357 0.15537572 0.48482348]]\n",
            "\n",
            " [[0.39647269 0.11388895 0.53577162]\n",
            "  [0.00830819 0.52345446 0.02525021]\n",
            "  [0.19933    0.38307831 0.15634932]\n",
            "  [0.36371247 0.66877456 0.30411237]\n",
            "  [0.01729947 0.09232065 0.34609438]]\n",
            "\n",
            " [[0.00179553 0.00179803 0.01656674]\n",
            "  [0.13195972 0.25256957 0.10860721]\n",
            "  [0.2459873  0.29644038 0.36063697]\n",
            "  [0.87422655 0.32242713 0.64626176]\n",
            "  [0.26418725 0.17834034 0.0732487 ]]\n",
            "\n",
            " [[0.00787133 0.09714568 0.14543625]\n",
            "  [0.01197005 0.03440112 0.05935336]\n",
            "  [0.61522211 0.5315762  0.34621354]\n",
            "  [0.07643883 0.04935666 0.07090721]\n",
            "  [0.61780812 0.52075213 0.7225213 ]]\n",
            "\n",
            " [[0.4664086  0.59753385 0.50129857]\n",
            "  [0.11280749 0.11879004 0.18209629]\n",
            "  [0.09808953 0.24638738 0.46030668]\n",
            "  [0.01511721 0.00476094 0.02910607]\n",
            "  [0.3793289  0.08677414 0.15437626]]]\n"
          ]
        }
      ],
      "source": [
        "trian = np.random.random((5,5,3))\n",
        "print('massiv 5x5x3:\\n',trian,'\\n')\n",
        "doub = np.random.random((5,5))\n",
        "print('massiv 5x5:\\n',doub,'\\n')\n",
        "doub = doub[:, :, np.newaxis]\n",
        "print('multiplied:\\n', np.multiply(trian, doub))"
      ],
      "id": "282a90cc"
    },
    {
      "cell_type": "markdown",
      "metadata": {
        "id": "b50adf7c"
      },
      "source": [
        "#### 36. Как вычислить средние значения, используя скользящее окно по массиву? (★★★)"
      ],
      "id": "b50adf7c"
    },
    {
      "cell_type": "code",
      "execution_count": null,
      "metadata": {
        "id": "e631a9d2",
        "colab": {
          "base_uri": "https://localhost:8080/"
        },
        "outputId": "271b169b-89cb-4e43-f524-9f5a2f7adf3a"
      },
      "outputs": [
        {
          "output_type": "stream",
          "name": "stdout",
          "text": [
            "[ 1.  2.  3.  4.  5.  6.  7.  8.  9. 10. 11. 12. 13. 14. 15. 16. 17. 18.]\n"
          ]
        }
      ],
      "source": [
        "def moving_average(arr, window_size):\n",
        "    n_windows = arr.shape[0] - window_size + 1\n",
        "\n",
        "    # выходной массив для хранения средних значений\n",
        "    avg_arr = np.zeros(n_windows)\n",
        "\n",
        "    for i in range(n_windows):\n",
        "        window = arr[i:i+window_size]\n",
        "        avg_arr[i] = np.mean(window)\n",
        "\n",
        "    return avg_arr\n",
        "\n",
        "Z = np.arange(20)\n",
        "print(moving_average(Z, 3))"
      ],
      "id": "e631a9d2"
    },
    {
      "cell_type": "markdown",
      "metadata": {
        "id": "1ab4c50d"
      },
      "source": [
        "#### 37. Рассмотрим одномерный массив Z, постройте из него двумерный массив, первая строка которого (Z[0],Z[1],Z[2]), а каждая последующая строка сдвинута на 1 (последняя строка должна быть (Z[ -3],Z[-2],Z[-1]) (★★★)"
      ],
      "id": "1ab4c50d"
    },
    {
      "cell_type": "code",
      "execution_count": null,
      "metadata": {
        "id": "3ccfe2c0",
        "colab": {
          "base_uri": "https://localhost:8080/"
        },
        "outputId": "8a6a940d-9bc1-4788-bd71-516ede7e9ad7"
      },
      "outputs": [
        {
          "output_type": "stream",
          "name": "stdout",
          "text": [
            "[[1 2 3]\n",
            " [2 3 4]\n",
            " [3 4 5]\n",
            " [4 5 6]\n",
            " [5 6 7]\n",
            " [6 7 8]\n",
            " [7 8 9]]\n"
          ]
        }
      ],
      "source": [
        "def shift_array(Z):\n",
        "    n = Z.shape[0] - 2\n",
        "    arr = np.empty((n, 3), dtype=Z.dtype)\n",
        "    for i in range(n):\n",
        "        arr[i] = Z[i:i+3]\n",
        "    return arr\n",
        "\n",
        "Z = np.arange(1, 10)\n",
        "print(shift_array(Z))"
      ],
      "id": "3ccfe2c0"
    },
    {
      "cell_type": "markdown",
      "metadata": {
        "id": "e5e7f323"
      },
      "source": [
        "#### 38. Рассмотрим 2 набора точек P0,P1, описывающих линии (2d), и набор точек P. Как вычислить расстояние от каждой точки j (P[j]) до каждой линии i (P0[i],P1[i])?(★★★)"
      ],
      "id": "e5e7f323"
    },
    {
      "cell_type": "code",
      "execution_count": null,
      "metadata": {
        "id": "d0ce77e2",
        "colab": {
          "base_uri": "https://localhost:8080/"
        },
        "outputId": "a0f6e220-9b1c-43ca-c4f3-5c53b939a339"
      },
      "outputs": [
        {
          "output_type": "stream",
          "name": "stdout",
          "text": [
            "[[ 8.70372959  7.13927874  6.2607617   3.4371427   0.67311193 13.94269421\n",
            "   0.80442725  3.51614797  8.23246178  9.06699926]\n",
            " [ 1.43559769  5.82154762  7.5275293   2.66169345 12.3489872   0.37619122\n",
            "   3.87136122  6.77916988  1.70102064  1.1889546 ]\n",
            " [11.59647852  5.4642197  10.03817206  7.14658397  0.82278479 13.85172484\n",
            "   4.14442052  5.58300783 11.27174491  6.20212485]\n",
            " [ 1.73191291 10.4293928   7.42760996  1.80588197 16.95758026  4.70012474\n",
            "   6.13432636 10.95672058  1.21239646  4.600747  ]\n",
            " [ 1.55376702  1.6186515   5.00561257  0.68753554 10.3182383   3.80433288\n",
            "   4.65938212  5.425427    1.55031442  3.03613349]\n",
            " [14.77486575  1.41510801 15.57242018 12.32147593  1.44791145 11.97719811\n",
            "   8.2922422   7.19760886 14.75326331  0.80910413]\n",
            " [ 0.38317634  1.25819891  2.09922466  1.90791436  9.90953863  5.60797602\n",
            "   6.48689834  5.60832789  0.17891909  6.43090721]\n",
            " [ 4.07487837  5.55602125  2.88770858  0.37669107  5.03286757 10.66259507\n",
            "   3.61729308  1.05817199  3.64349836  9.31696429]\n",
            " [ 3.18177395  3.16518468  2.45739355  6.40104561 11.82558637  5.59368774\n",
            "  10.56897298  8.20222269  3.55649297  9.80158377]\n",
            " [ 4.48150444  4.21139245  4.11364687  0.69673085  5.33406659  9.75862844\n",
            "   2.90773671  1.09725168  4.14209794  7.78670206]]\n"
          ]
        }
      ],
      "source": [
        "P0 = np.random.uniform(-10, 10, (10,2))\n",
        "P1 = np.random.uniform(-10,10,(10,2))\n",
        "P = np.random.uniform(-10, 10, (10,2))\n",
        "# вычисляем различия между конечными точками линии и координатами точки\n",
        "diff_P0_P = P0 - P[:, np.newaxis, :]\n",
        "diff_P1_P = P1 - P[:, np.newaxis, :]\n",
        "\n",
        "# вычисляем длины отрезков линии\n",
        "seg_lengths = np.linalg.norm(diff_P1_P - diff_P0_P, axis=2)\n",
        "# расстояния от каждой точки до каждой линии\n",
        "cross_prod = np.cross(diff_P0_P, diff_P1_P, axis=2)\n",
        "distances = np.abs(cross_prod) / seg_lengths\n",
        "\n",
        "print(distances)"
      ],
      "id": "d0ce77e2"
    },
    {
      "cell_type": "markdown",
      "metadata": {
        "id": "27794913"
      },
      "source": [
        "#### 39. Рассмотрим массив Z = [1,2,3,4,5,6,7,8,9,10,11,12,13,14], как сгенерировать массив R = [[1,2,3, 4], [2,3,4,5], [3,4,5,6], ..., [11,12,13,14]]? (★★★)"
      ],
      "id": "27794913"
    },
    {
      "cell_type": "code",
      "execution_count": null,
      "metadata": {
        "id": "f3e7878b",
        "colab": {
          "base_uri": "https://localhost:8080/"
        },
        "outputId": "892700b8-3a56-4d82-8d4a-1836a86ca14e"
      },
      "outputs": [
        {
          "output_type": "stream",
          "name": "stdout",
          "text": [
            "[[ 1  2  3  4]\n",
            " [ 2  3  4  5]\n",
            " [ 3  4  5  6]\n",
            " [ 4  5  6  7]\n",
            " [ 5  6  7  8]\n",
            " [ 6  7  8  9]\n",
            " [ 7  8  9 10]\n",
            " [ 8  9 10 11]\n",
            " [ 9 10 11 12]\n",
            " [10 11 12 13]\n",
            " [11 12 13 14]]\n"
          ]
        }
      ],
      "source": [
        "Z = np.arange(1, 15)\n",
        "R = np.reshape([Z[i:i+4] for i in range(11)], (11, 4))\n",
        "print(R)"
      ],
      "id": "f3e7878b"
    },
    {
      "cell_type": "markdown",
      "metadata": {
        "id": "fae786f5"
      },
      "source": [
        "#### 40. Найдите ранг случайной матрицы (★★★)"
      ],
      "id": "fae786f5"
    },
    {
      "cell_type": "code",
      "execution_count": null,
      "metadata": {
        "id": "64b9615b",
        "colab": {
          "base_uri": "https://localhost:8080/"
        },
        "outputId": "5546756e-c1c1-4703-9d99-1fb3968e5927"
      },
      "outputs": [
        {
          "output_type": "execute_result",
          "data": {
            "text/plain": [
              "3"
            ]
          },
          "metadata": {},
          "execution_count": 42
        }
      ],
      "source": [
        "a = np.random.randint(0, 15, size=(4, 3))\n",
        "np.linalg.matrix_rank(a)"
      ],
      "id": "64b9615b"
    },
    {
      "cell_type": "markdown",
      "metadata": {
        "id": "c85aa0b9"
      },
      "source": [
        "#### 41. Как найти наиболее часто встречающееся значение в массиве?"
      ],
      "id": "c85aa0b9"
    },
    {
      "cell_type": "code",
      "execution_count": null,
      "metadata": {
        "id": "056be85b",
        "colab": {
          "base_uri": "https://localhost:8080/"
        },
        "outputId": "97bcc8ac-c5d1-4fdb-b18b-ec534d447816"
      },
      "outputs": [
        {
          "output_type": "stream",
          "name": "stdout",
          "text": [
            "1\n"
          ]
        }
      ],
      "source": [
        "Z = np.random.randint(0,10,50)\n",
        "# print(Z)\n",
        "unique, counts = np.unique(Z, return_counts=True) # все уникальные и кол-во появления\n",
        "\n",
        "def get_key(d, value):\n",
        "    for k, v in d.items():\n",
        "        if v == value:\n",
        "            return k\n",
        "\n",
        "dict_uniq = dict(zip(unique, counts))\n",
        "print(get_key(dict_uniq, counts.max()))"
      ],
      "id": "056be85b"
    },
    {
      "cell_type": "markdown",
      "metadata": {
        "id": "d614fee4"
      },
      "source": [
        "#### 42. Рассмотрим два массива A и B формы (8,3) и (2,2). Как найти строки A, содержащие элементы каждой строки B, независимо от порядка элементов в B? (★★★)"
      ],
      "id": "d614fee4"
    },
    {
      "cell_type": "code",
      "execution_count": null,
      "metadata": {
        "id": "e6807a84",
        "colab": {
          "base_uri": "https://localhost:8080/"
        },
        "outputId": "3df6c5b0-8a42-4e19-b280-818dc660a5e0"
      },
      "outputs": [
        {
          "output_type": "stream",
          "name": "stdout",
          "text": [
            "[5 7]\n"
          ]
        }
      ],
      "source": [
        "A = np.random.randint(0, 10, (8,3))\n",
        "B = np.random.randint(0, 10, (2,2))\n",
        "\n",
        "\n",
        "C = (A[..., np.newaxis, np.newaxis] == B)\n",
        "rows = (C.sum(axis=(1,2,3)) >= B.shape[1]).nonzero()[0]\n",
        "print(rows)"
      ],
      "id": "e6807a84"
    },
    {
      "cell_type": "markdown",
      "metadata": {
        "id": "75b9397f"
      },
      "source": [
        "#### 43. Как извлечь уникальные значения из 2-х двумерных массивов?(★★★)"
      ],
      "id": "75b9397f"
    },
    {
      "cell_type": "code",
      "execution_count": null,
      "metadata": {
        "id": "9bb56a47",
        "colab": {
          "base_uri": "https://localhost:8080/"
        },
        "outputId": "666b3810-c134-402a-c0ae-dd15760daa21"
      },
      "outputs": [
        {
          "output_type": "stream",
          "name": "stdout",
          "text": [
            "[0.00638565 0.0282314  0.0472393  0.07436439 0.07769298 0.10034176\n",
            " 0.15400036 0.18362504 0.24577692 0.25855645 0.25928734 0.34340892\n",
            " 0.59827184 0.65265469 0.78099366 0.87456438 0.92957851 0.97025322]\n"
          ]
        }
      ],
      "source": [
        "C = np.random.random((3,3))\n",
        "D = np.random.random((3,3))\n",
        "print(np.unique(np.concatenate((C, D))))"
      ],
      "id": "9bb56a47"
    },
    {
      "cell_type": "code",
      "source": [],
      "metadata": {
        "id": "ForhXm0qkn8A"
      },
      "id": "ForhXm0qkn8A",
      "execution_count": null,
      "outputs": []
    }
  ],
  "metadata": {
    "colab": {
      "provenance": []
    },
    "gpuClass": "standard",
    "kernelspec": {
      "display_name": "Python 3",
      "name": "python3"
    },
    "language_info": {
      "name": "python"
    }
  },
  "nbformat": 4,
  "nbformat_minor": 5
}